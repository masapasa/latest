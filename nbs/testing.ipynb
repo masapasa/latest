{
 "cells": [
  {
   "cell_type": "markdown",
   "id": "47eb09fd-b838-4453-9acf-a6c86552db56",
   "metadata": {},
   "source": [
    "# Mocking internals of a Python Script\n",
    "> How to test against a Python script when you need to change how `__main__` behaves"
   ]
  },
  {
   "cell_type": "markdown",
   "id": "fdd0468f-28d1-4cf6-8afc-5a881583b229",
   "metadata": {},
   "source": [
    "This will be split into two parts. The first contains the contents of some `script.py` file, which is the base template script we want to use:"
   ]
  },
  {
   "cell_type": "markdown",
   "id": "f5c00750-464b-4e55-a9b3-ca9d6ca46bf1",
   "metadata": {},
   "source": [
    "::: {layout-ncol=1}"
   ]
  },
  {
   "cell_type": "code",
   "execution_count": null,
   "id": "bb0ba824-ebac-4466-8cb8-66bd5f52da99",
   "metadata": {},
   "outputs": [],
   "source": [
    "#| classes: .nogap .hint--rounded .hint--medium .hint--right\n",
    "#| aria-label: \"This is the function whose behavior we want to override during our mock\"\n",
    "#| filename: \"example/script.py\"\n",
    "def test_function(): \n",
    "    return 2"
   ]
  },
  {
   "cell_type": "code",
   "execution_count": null,
   "id": "660667d5-45b3-4379-8282-df6873aa1f30",
   "metadata": {},
   "outputs": [],
   "source": [
    "#| classes: .nogap .hint--rounded .hint--medium .hint--right\n",
    "#| aria-label: \"The main function is what we will call when running the python script. This will write a string representation of `test_function()` to a file.\"\n",
    "def main():\n",
    "    result = test_function()\n",
    "    with open(\"someFile.txt\", \"w\") as f:\n",
    "        f.write(str(result))"
   ]
  },
  {
   "cell_type": "code",
   "execution_count": null,
   "id": "800f12aa-2102-4eba-ab82-ef3dba29e36b",
   "metadata": {},
   "outputs": [],
   "source": [
    "#| classes: .nogap .hint--rounded .hint--medium .hint--right\n",
    "#| aria-label: \"This is a blocker to ensure that if anyone imports or calls this python script that it will be ran explicitly.\"\n",
    "if __name__ == \"__main__\":\n",
    "    main()"
   ]
  },
  {
   "cell_type": "markdown",
   "id": "ef6740b8-51fe-4d8c-9db8-67fa2b4eb7ee",
   "metadata": {},
   "source": [
    ":::"
   ]
  },
  {
   "cell_type": "markdown",
   "id": "9c9343e9-64f3-4bb1-8d77-7457975f0246",
   "metadata": {},
   "source": [
    "::: {.callout-warning}\n",
    "\n",
    "## File Structure\n",
    "\n",
    "It should be assumed that for the next part the structure of the code files are as such:\n",
    "\n",
    "* `base_repository`\n",
    "  * `example`\n",
    "    * `script.py`\n",
    "  * `tests`\n",
    "    * `test_script.py`\n",
    ":::"
   ]
  },
  {
   "cell_type": "markdown",
   "id": "8f25793f-8acc-4be7-9f24-7a1b118cdf84",
   "metadata": {},
   "source": [
    "::: {layout-ncol=1}"
   ]
  },
  {
   "cell_type": "code",
   "execution_count": null,
   "id": "9e235f86-b36e-4f8d-876a-6712136f26c4",
   "metadata": {},
   "outputs": [],
   "source": [
    "#| classes: .nogap\n",
    "#| filename: test_script.py\n",
    "import os\n",
    "import sys\n",
    "import unittest\n",
    "from unittest import mock"
   ]
  },
  {
   "cell_type": "code",
   "execution_count": null,
   "id": "3e5cc5d0-1962-40c3-8da3-dcf67423705d",
   "metadata": {},
   "outputs": [],
   "source": [
    "#| classes: .nogap .hint--bounce .hint--large .hint--bottom\n",
    "#| aria-label: \"This is a list of directories that have our script source code relative to the current file. In this case the `example` directory.\"\n",
    "SRC_DIRS = [\n",
    "    os.path.join(\n",
    "        os.path.dirname(__file__), \"example\"\n",
    "    )\n",
    "]"
   ]
  },
  {
   "cell_type": "code",
   "execution_count": null,
   "id": "c0e579b9-d515-4d16-b2e0-b0eb6b376b69",
   "metadata": {},
   "outputs": [],
   "source": [
    "#| classes: .nogap .hint--rounded .hint--large .hint--bottom\n",
    "#| aria-label: \"We add in our new SRC_DIRS to the sys.path which allows them to be imported through an import statement such as import script\"\n",
    "sys.path.extend(SRC_DIRS)"
   ]
  },
  {
   "cell_type": "code",
   "execution_count": null,
   "id": "a67387ad-657a-460f-8976-3cd0abe6f403",
   "metadata": {},
   "outputs": [],
   "source": [
    "#| classes: .nogap .hint--rounded .hint--large .hint--bottom\n",
    "#| aria-label: \"If the file exists (this makes it modular) go ahead and import it\"\n",
    "if SRC_DIRS is not None:\n",
    "    import script"
   ]
  },
  {
   "cell_type": "code",
   "execution_count": null,
   "id": "74e85179-99bb-4360-99f6-27bcd73dd31c",
   "metadata": {},
   "outputs": [],
   "source": [
    "#| classes: .nogap .hint--rounded .hint--large .hint--bottom\n",
    "#| aria-label: \"This is the new function we will use to replace the `test_function` in our python script\"\n",
    "def new_function():\n",
    "    return 0"
   ]
  },
  {
   "cell_type": "code",
   "execution_count": null,
   "id": "31918ea0-5209-413d-89c4-e69e6267f1d6",
   "metadata": {},
   "outputs": [],
   "source": [
    "#| classes: .nogap .hint--rounded .hint--large .hint--bottom\n",
    "#| aria-label: \"This uses `unittest.mock` to mokey-patch and override the original `test_function` in the existing module with the new one we just defined. Calling `script.test_function()` will call `new_function()` as a result\"\n",
    "@mock.patch(\"script.test_function\", new_function)"
   ]
  },
  {
   "cell_type": "code",
   "execution_count": null,
   "id": "317d82a3-676f-4e00-9bac-70e55ac81eea",
   "metadata": {},
   "outputs": [],
   "source": [
    "#| classes: .nogap .hint--rounded .hint--large .hint--bottom\n",
    "#| aria-label: \"Calls the main function in our tester, but uses our `new_function()` when called\"\n",
    "class ExampleTester(unittest.TestCase):\n",
    "    def test_example(self):\n",
    "        script.main()"
   ]
  },
  {
   "cell_type": "code",
   "execution_count": null,
   "id": "3bc2e939-2a7b-44c0-a12a-01bae3fdfedc",
   "metadata": {},
   "outputs": [],
   "source": [
    "#| classes: .nogap .hint--rounded .hint--large .hint--bottom\n",
    "#| aria-label: \"Tests that the file which was written to has the properly mocked version of it, or 0\"\n",
    "        with open(\"someFile.txt\", \"r\") as f:\n",
    "            lines = f.read()\n",
    "        self.assertEquals(lines, \"0\")"
   ]
  },
  {
   "cell_type": "markdown",
   "id": "68afe1d1-1e69-4dbf-8ca2-8dfb51f0d177",
   "metadata": {},
   "source": [
    ":::"
   ]
  },
  {
   "cell_type": "markdown",
   "id": "d2bc8c8d-138c-455d-821c-3dc4c7462338",
   "metadata": {},
   "source": [
    "::: {.panel-tabset}\n",
    "\n",
    "## Code"
   ]
  },
  {
   "cell_type": "code",
   "execution_count": null,
   "id": "e38ed5b0-03d4-455e-937c-0db724f68bdf",
   "metadata": {},
   "outputs": [],
   "source": [
    "#| filename: test_script.py\n",
    "import os\n",
    "import sys\n",
    "import unittest\n",
    "from unittest import mock\n",
    "SRC_DIRS = [\n",
    "    os.path.join(\n",
    "        os.path.dirname(__file__), \"example\"\n",
    "    )\n",
    "]\n",
    "sys.path.extend(SRC_DIRS)\n",
    "if SRC_DIRS is not None:\n",
    "    import script\n",
    "def new_function():\n",
    "    return 0\n",
    "@mock.patch(\"script.test_function\", new_function)\n",
    "class ExampleTester(unittest.TestCase):\n",
    "    def test_example(self):\n",
    "        script.main()\n",
    "        with open(\"someFile.txt\", \"r\") as f:\n",
    "            lines = f.read()\n",
    "        self.assertEquals(lines, \"0\")"
   ]
  },
  {
   "cell_type": "markdown",
   "id": "1f87faee-2044-45ff-ab1f-d79a0570b3fd",
   "metadata": {},
   "source": [
    "## Code + Explanation"
   ]
  },
  {
   "cell_type": "markdown",
   "id": "9a6c76a4-fcfe-4052-88d0-e34565bbe2c5",
   "metadata": {},
   "source": [
    "> This section contains code you can hover over and a pop-up with an explanation will appear"
   ]
  },
  {
   "cell_type": "markdown",
   "id": "be1ccf3d-6219-4b50-b0fb-f626514c5418",
   "metadata": {},
   "source": [
    "::: {layout-ncol=1}"
   ]
  },
  {
   "cell_type": "code",
   "execution_count": null,
   "id": "18bbae8f-0b66-4b74-93c3-4e50845ad8b5",
   "metadata": {},
   "outputs": [],
   "source": [
    "#| classes: .nogap\n",
    "#| filename: test_script.py\n",
    "import os\n",
    "import sys\n",
    "import unittest\n",
    "from unittest import mock"
   ]
  },
  {
   "cell_type": "code",
   "execution_count": null,
   "id": "e47fbcd0-7bb7-4ad1-98cf-0a9050c00b27",
   "metadata": {},
   "outputs": [],
   "source": [
    "#| classes: .nogap .hint--bounce .hint--large .hint--bottom\n",
    "#| aria-label: \"This is a list of directories that have our script source code relative to the current file. In this case the `example` directory.\"\n",
    "SRC_DIRS = [\n",
    "    os.path.join(\n",
    "        os.path.dirname(__file__), \"example\"\n",
    "    )\n",
    "]"
   ]
  },
  {
   "cell_type": "code",
   "execution_count": null,
   "id": "b4fd3d11-a48d-40f4-be84-a3c4f63b9d52",
   "metadata": {},
   "outputs": [],
   "source": [
    "#| classes: .nogap .hint--rounded .hint--large .hint--bottom\n",
    "#| aria-label: \"We add in our new SRC_DIRS to the sys.path which allows them to be imported through an import statement such as import script\"\n",
    "sys.path.extend(SRC_DIRS)"
   ]
  },
  {
   "cell_type": "code",
   "execution_count": null,
   "id": "5cc6bb8a-7655-4861-9097-45c0092f848d",
   "metadata": {},
   "outputs": [],
   "source": [
    "#| classes: .nogap .hint--rounded .hint--large .hint--bottom\n",
    "#| aria-label: \"If the file exists (this makes it modular) go ahead and import it\"\n",
    "if SRC_DIRS is not None:\n",
    "    import script"
   ]
  },
  {
   "cell_type": "code",
   "execution_count": null,
   "id": "407944e2-09ea-4207-ab22-1420ffd233e3",
   "metadata": {},
   "outputs": [],
   "source": [
    "#| classes: .nogap .hint--rounded .hint--large .hint--bottom\n",
    "#| aria-label: \"This is the new function we will use to replace the `test_function` in our python script\"\n",
    "def new_function():\n",
    "    return 0"
   ]
  },
  {
   "cell_type": "code",
   "execution_count": null,
   "id": "5d075e88-2c51-4da2-8b76-ef82f8c7cb1d",
   "metadata": {},
   "outputs": [],
   "source": [
    "#| classes: .nogap .hint--rounded .hint--large .hint--bottom\n",
    "#| aria-label: \"This uses `unittest.mock` to mokey-patch and override the original `test_function` in the existing module with the new one we just defined. Calling `script.test_function()` will call `new_function()` as a result\"\n",
    "@mock.patch(\"script.test_function\", new_function)"
   ]
  },
  {
   "cell_type": "code",
   "execution_count": null,
   "id": "3eeed8d3-b0c8-4301-86b4-44e0ac029eb0",
   "metadata": {},
   "outputs": [],
   "source": [
    "#| classes: .nogap .hint--rounded .hint--large .hint--bottom\n",
    "#| aria-label: \"Calls the main function in our tester, but uses our `new_function()` when called\"\n",
    "class ExampleTester(unittest.TestCase):\n",
    "    def test_example(self):\n",
    "        script.main()"
   ]
  },
  {
   "cell_type": "code",
   "execution_count": null,
   "id": "447bc4df-b18c-4b96-adc8-a988bfb4b835",
   "metadata": {},
   "outputs": [],
   "source": [
    "#| classes: .nogap .hint--rounded .hint--large .hint--bottom\n",
    "#| aria-label: \"Tests that the file which was written to has the properly mocked version of it, or 0\"\n",
    "        with open(\"someFile.txt\", \"r\") as f:\n",
    "            lines = f.read()\n",
    "        self.assertEquals(lines, \"0\")"
   ]
  },
  {
   "cell_type": "markdown",
   "id": "146fb97d-74f3-4fde-9cb4-8c591815d3ff",
   "metadata": {},
   "source": [
    ":::"
   ]
  },
  {
   "cell_type": "markdown",
   "id": "137c7c1c-c6d7-4088-9b9a-d10f5946c9c7",
   "metadata": {},
   "source": [
    ":::"
   ]
  }
 ],
 "metadata": {
  "kernelspec": {
   "display_name": "Python 3 (ipykernel)",
   "language": "python",
   "name": "python3"
  }
 },
 "nbformat": 4,
 "nbformat_minor": 5
}
