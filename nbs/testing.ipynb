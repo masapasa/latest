{
 "cells": [
  {
   "cell_type": "markdown",
   "id": "47eb09fd-b838-4453-9acf-a6c86552db56",
   "metadata": {},
   "source": [
    "# Mocking internals of a Python Script\n",
    "> How to test against a Python script when you need to change how `__main__` behaves"
   ]
  },
  {
   "cell_type": "markdown",
   "id": "fdd0468f-28d1-4cf6-8afc-5a881583b229",
   "metadata": {},
   "source": [
    "This will be split into two parts. The first contains the contents of some `script.py` file, which is the base template script we want to use:"
   ]
  },
  {
   "cell_type": "code",
   "execution_count": null,
   "id": "99fbd7b2-6ea4-456d-ac25-5c452a5fa966",
   "metadata": {},
   "outputs": [],
   "source": [
    "def test_function(): \n",
    "    return 2\n",
    "\n",
    "def main():\n",
    "    result = test_function()\n",
    "    with open(\"someFile.txt\", \"w\") as f:\n",
    "        f.write(str(result))\n",
    "        \n",
    "if __name__ == \"__main__\":\n",
    "    main()"
   ]
  },
  {
   "cell_type": "markdown",
   "id": "f26b157f-267c-4700-9bfd-324f106a3c4e",
   "metadata": {},
   "source": [
    "#| tip \"def\" 0 \"return 2\" 0\n",
    "\n",
    "#| filename: examples/script.py\n",
    "\n",
    "This is the function whose behavior we want to override during our mock"
   ]
  },
  {
   "cell_type": "markdown",
   "id": "bede9ab8-72b9-4bb8-ad58-1bf04a8304c5",
   "metadata": {},
   "source": [
    "#| tip \"def\" 1 \"))\" \n",
    "\n",
    "The main function is what we will call when running the python script. This will write a string representation of `test_function()` to a file."
   ]
  },
  {
   "cell_type": "markdown",
   "id": "5bf7f044-c9bd-4bb5-a35c-a261288291a1",
   "metadata": {},
   "source": [
    "#| tip \"if\" 0 \"()\" 3\n",
    "This is a blocker to ensure that if anyone imports or calls this python script that it will be ran explicitly."
   ]
  },
  {
   "cell_type": "markdown",
   "id": "9c9343e9-64f3-4bb1-8d77-7457975f0246",
   "metadata": {},
   "source": [
    "::: {.callout-warning}\n",
    "\n",
    "## File Structure\n",
    "\n",
    "It should be assumed that for the next part the structure of the code files are as such:\n",
    "\n",
    "* `base_repository`\n",
    "  * `example`\n",
    "    * `script.py`\n",
    "  * `tests`\n",
    "    * `test_script.py`\n",
    ":::"
   ]
  },
  {
   "cell_type": "code",
   "execution_count": null,
   "id": "8c1d254d-1317-4b1a-86c6-af3cde8c59db",
   "metadata": {},
   "outputs": [],
   "source": [
    "import os\n",
    "import sys\n",
    "import unittest\n",
    "from unittest import mock\n",
    "SRC_DIRS = [\n",
    "    os.path.join(\n",
    "        os.path.dirname(__file__), \"example\"\n",
    "    )\n",
    "]\n",
    "sys.path.extend(SRC_DIRS)\n",
    "if SRC_DIRS is not None:\n",
    "    import script\n",
    "def new_function():\n",
    "    return 0\n",
    "@mock.patch(\"script.test_function\", new_function)\n",
    "class ExampleTester(unittest.TestCase):\n",
    "    def test_example(self):\n",
    "        script.main()\n",
    "        with open(\"someFile.txt\", \"r\") as f:\n",
    "            lines = f.read()\n",
    "        self.assertEquals(lines, \"0\")"
   ]
  },
  {
   "cell_type": "markdown",
   "id": "f0d2e272-1a6b-452b-8bc9-94aad8cc5ad9",
   "metadata": {},
   "source": [
    "#| tip \"SRC_DIRS\" 0 ] 0\n",
    "This is a list of directories that have our script source code relative to the current file. In this case the `example` directory."
   ]
  },
  {
   "cell_type": "markdown",
   "id": "0a6c3ad3-90c2-4703-a505-567b6ae6675c",
   "metadata": {},
   "source": [
    "#| tip \"sys.path\" 0 \"SRC_DIRS)\"\n",
    "\n",
    "We add in our new SRC_DIRS to the sys.path which allows them to be imported through an import statement such as import script"
   ]
  },
  {
   "cell_type": "markdown",
   "id": "ffb9f7fc-420f-464d-8295-c033938823ac",
   "metadata": {},
   "source": [
    "#| tip \"if SRC_DIRS\" 0 \"import script\"\n",
    "\n",
    "If the file exists (this makes it modular) go ahead and import it"
   ]
  },
  {
   "cell_type": "markdown",
   "id": "f1ecd495-f319-427e-a998-0bbb4d682d75",
   "metadata": {},
   "source": [
    "#| tip \"def new_\" 0 \"return 0\" 0\n",
    "This is the new function we will use to replace the `test_function` in our python script"
   ]
  },
  {
   "cell_type": "markdown",
   "id": "694769e5-f253-4175-8a3b-b420d8b2b4a1",
   "metadata": {},
   "source": [
    "#| tip \"@mock\" 0 \"new_function)\"\n",
    "\n",
    "This uses `unittest.mock` to mokey-patch and override the original `test_function` in the existing module with the new one we just defined. Calling `script.test_function()` will call `new_function()` as a result"
   ]
  },
  {
   "cell_type": "markdown",
   "id": "bb9aefcd-2fb3-4a49-a079-922438324a73",
   "metadata": {},
   "source": [
    "#| tip \"class\" 0 ) 7\n",
    "\n",
    "Calls the main function in our tester, but uses our `new_function()` when called"
   ]
  },
  {
   "cell_type": "markdown",
   "id": "3a2befb1-5e94-4db3-936b-fa2fb081c264",
   "metadata": {},
   "source": [
    "#| tip \"with open\" 0 \")\" 10\n",
    "\n",
    "Tests that the file which was written to has the properly mocked version of it, or 0"
   ]
  },
  {
   "cell_type": "code",
   "execution_count": null,
   "id": "b4e5f70f-893b-4c5f-965c-eaace247372e",
   "metadata": {},
   "outputs": [],
   "source": []
  }
 ],
 "metadata": {
  "kernelspec": {
   "display_name": "Python 3 (ipykernel)",
   "language": "python",
   "name": "python3"
  },
  "language_info": {
   "codemirror_mode": {
    "name": "ipython",
    "version": 3
   },
   "file_extension": ".py",
   "mimetype": "text/x-python",
   "name": "python",
   "nbconvert_exporter": "python",
   "pygments_lexer": "ipython3",
   "version": "3.8.10"
  }
 },
 "nbformat": 4,
 "nbformat_minor": 5
}
