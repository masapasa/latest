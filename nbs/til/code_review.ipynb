{
 "cells": [
  {
   "cell_type": "markdown",
   "id": "45c911e8-808c-4480-8bd6-a649aa2c3f9a",
   "metadata": {},
   "source": [
    "# The Code Review Pyramid\n",
    "> What to focus on during your code reviews\n",
    "- categories: [general]"
   ]
  },
  {
   "cell_type": "markdown",
   "id": "242b288a-584d-49aa-af17-50006c744d62",
   "metadata": {},
   "source": [
    "## What is it?\n",
    "\n",
    "This is a graphic written by Gunnar Morling on what is described as the \"Code Review Pyramid.\" It's split into five \"layers\" that I'll quickly describe.\n",
    "\n",
    "![](https://user-images.githubusercontent.com/7831895/202606723-e60cc94e-6c6b-420c-99a0-5e11ea34aca8.png)"
   ]
  }
 ],
 "metadata": {
  "kernelspec": {
   "display_name": "Python 3 (ipykernel)",
   "language": "python",
   "name": "python3"
  }
 },
 "nbformat": 4,
 "nbformat_minor": 5
}
