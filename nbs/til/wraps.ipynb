{
 "cells": [
  {
   "cell_type": "markdown",
   "id": "37c2448a-5ab9-43e3-b5ed-b53125676169",
   "metadata": {},
   "source": [
    "# Undoing a wrapped function\n",
    "> How to pickle an object that may have been wrapped\n",
    "- categories: [python]\n",
    "- date: 2022-11-20\n",
    "- date-format: short"
   ]
  },
  {
   "cell_type": "markdown",
   "id": "f9560426-ba31-4b04-9268-f4fbf21630c7",
   "metadata": {},
   "source": [
    "## Motivation\n",
    "\n",
    "A few days ago there was an issue in Accelerate where a prepared model couldn't be pickled. At first I thought it had to do with how in Accelerate we have a wrapper function that will make the model return FP32 outputs even on FP16.\n",
    "\n",
    "![](https://i.kym-cdn.com/entries/icons/original/000/028/596/dsmGaKWMeHXe9QuJtq_ys30PNfTGnMsRuHuo_MUzGCg.jpg)"
   ]
  },
  {
   "cell_type": "markdown",
   "id": "b4b7a2b6-22f2-4246-90b4-753582ab2d32",
   "metadata": {},
   "source": [
    "## The Meat\n",
    "\n",
    "Okay so, let's pretend we have the following situation in PyTorch:"
   ]
  },
  {
   "cell_type": "code",
   "execution_count": null,
   "id": "e120a6e7-dbe6-43ba-bf5b-7b171a3e0520",
   "metadata": {},
   "outputs": [],
   "source": [
    "class MathClass:\n",
    "    \"A super basic class that performs math\"\n",
    "    def __init__(self, a:int):\n",
    "        self.a = a\n",
    "        \n",
    "    def addition(self, b):\n",
    "        return self.a+b\n",
    "    \n",
    "    def subtraction(self, b):\n",
    "        return self.a-b"
   ]
  },
  {
   "cell_type": "markdown",
   "id": "954047e9-3846-4b5a-96d3-9ed2b9dc010b",
   "metadata": {},
   "source": [
    "Let's then say that on the *addition function* of this class, I want to be able to wrap a function that will take the output of `addition` and divide it by two (logic wise it doesn't make sense, but code wise it does). \n",
    "\n",
    "We can use `functools.wraps` to do this:"
   ]
  },
  {
   "cell_type": "code",
   "execution_count": null,
   "id": "28ffda5f-4bed-4cc8-98de-44a15a055549",
   "metadata": {},
   "outputs": [],
   "source": [
    "from functools import wraps\n",
    "\n",
    "def addition_with_div(addition_func):\n",
    "    @wraps(addition_func)\n",
    "    def inner(*args, **kwargs):\n",
    "        result = addition_func(*args, **kwargs)\n",
    "        return result / 2\n",
    "    return inner"
   ]
  },
  {
   "cell_type": "markdown",
   "id": "14156cf8-49fa-4b9f-be18-c1cb208cd754",
   "metadata": {},
   "source": [
    "#| explain multiline \"@wraps\" 0 ) 1\n",
    "\n",
    "A decorator that takes in some function and says that whatever function we have defined under it will be called after the inner function has finished. "
   ]
  },
  {
   "cell_type": "markdown",
   "id": "e09fe6e0-ea1a-4295-a292-ded6ea818755",
   "metadata": {},
   "source": [
    "#| explain multiline \"def inner\" 0 2 0\n",
    "\n",
    "Inside the function that was decorated we then pass all the args to the original func and return its result divided by 2"
   ]
  },
  {
   "cell_type": "markdown",
   "id": "854ce3ee-6d57-4627-a504-d9b99a4d3a1f",
   "metadata": {},
   "source": [
    "And finally use it:"
   ]
  },
  {
   "cell_type": "code",
   "execution_count": null,
   "id": "8e09234e-fc44-4cf6-92db-ddde6526f082",
   "metadata": {},
   "outputs": [],
   "source": [
    "math = MathClass(a=2)\n",
    "math.addition = addition_with_div(math.addition)"
   ]
  },
  {
   "cell_type": "markdown",
   "id": "9045f87d-13bd-4c9e-8791-b119f0fac756",
   "metadata": {},
   "source": [
    "Now if we try and do `math.addition` we get:"
   ]
  },
  {
   "cell_type": "code",
   "execution_count": null,
   "id": "9d02bd80-604b-4fec-ad2c-b952be2bd48c",
   "metadata": {},
   "outputs": [
    {
     "data": {
      "text/plain": [
       "6.0"
      ]
     },
     "execution_count": null,
     "metadata": {},
     "output_type": "execute_result"
    }
   ],
   "source": [
    "math.addition(10)"
   ]
  },
  {
   "cell_type": "markdown",
   "id": "54a4b63a-dea7-41df-9887-7b6f408ec402",
   "metadata": {},
   "source": [
    "2 + 10 divided by 2 like we expect! But then what did I have to solve? **Pickling**."
   ]
  },
  {
   "cell_type": "markdown",
   "id": "fb210d4d-ab7c-4294-b656-1e23ebd14ff4",
   "metadata": {},
   "source": [
    "## Pickling, the beloved destructor\n",
    "\n",
    "Let's try pickling this (and use torch because I'm lazy):"
   ]
  },
  {
   "cell_type": "code",
   "execution_count": null,
   "id": "6d72faac-c79f-440e-bfad-b8d781712c75",
   "metadata": {},
   "outputs": [
    {
     "ename": "PicklingError",
     "evalue": "Can't pickle <function MathClass.addition at 0x7f00c5a13700>: it's not the same object as __main__.MathClass.addition",
     "output_type": "error",
     "traceback": [
      "\u001b[0;31m---------------------------------------------------------------------------\u001b[0m",
      "\u001b[0;31mPicklingError\u001b[0m                             Traceback (most recent call last)",
      "Input \u001b[0;32mIn [13]\u001b[0m, in \u001b[0;36m<module>\u001b[0;34m\u001b[0m\n\u001b[1;32m      1\u001b[0m \u001b[38;5;28;01mimport\u001b[39;00m \u001b[38;5;21;01mtorch\u001b[39;00m\n\u001b[0;32m----> 2\u001b[0m \u001b[43mtorch\u001b[49m\u001b[38;5;241;43m.\u001b[39;49m\u001b[43msave\u001b[49m\u001b[43m(\u001b[49m\u001b[43mmath\u001b[49m\u001b[43m,\u001b[49m\u001b[43m \u001b[49m\u001b[38;5;124;43m\"\u001b[39;49m\u001b[38;5;124;43mmymaththing.pth\u001b[39;49m\u001b[38;5;124;43m\"\u001b[39;49m\u001b[43m)\u001b[49m\n",
      "File \u001b[0;32m~/.local/lib/python3.8/site-packages/torch/serialization.py:379\u001b[0m, in \u001b[0;36msave\u001b[0;34m(obj, f, pickle_module, pickle_protocol, _use_new_zipfile_serialization)\u001b[0m\n\u001b[1;32m    377\u001b[0m \u001b[38;5;28;01mif\u001b[39;00m _use_new_zipfile_serialization:\n\u001b[1;32m    378\u001b[0m     \u001b[38;5;28;01mwith\u001b[39;00m _open_zipfile_writer(opened_file) \u001b[38;5;28;01mas\u001b[39;00m opened_zipfile:\n\u001b[0;32m--> 379\u001b[0m         \u001b[43m_save\u001b[49m\u001b[43m(\u001b[49m\u001b[43mobj\u001b[49m\u001b[43m,\u001b[49m\u001b[43m \u001b[49m\u001b[43mopened_zipfile\u001b[49m\u001b[43m,\u001b[49m\u001b[43m \u001b[49m\u001b[43mpickle_module\u001b[49m\u001b[43m,\u001b[49m\u001b[43m \u001b[49m\u001b[43mpickle_protocol\u001b[49m\u001b[43m)\u001b[49m\n\u001b[1;32m    380\u001b[0m         \u001b[38;5;28;01mreturn\u001b[39;00m\n\u001b[1;32m    381\u001b[0m _legacy_save(obj, opened_file, pickle_module, pickle_protocol)\n",
      "File \u001b[0;32m~/.local/lib/python3.8/site-packages/torch/serialization.py:589\u001b[0m, in \u001b[0;36m_save\u001b[0;34m(obj, zip_file, pickle_module, pickle_protocol)\u001b[0m\n\u001b[1;32m    587\u001b[0m pickler \u001b[38;5;241m=\u001b[39m pickle_module\u001b[38;5;241m.\u001b[39mPickler(data_buf, protocol\u001b[38;5;241m=\u001b[39mpickle_protocol)\n\u001b[1;32m    588\u001b[0m pickler\u001b[38;5;241m.\u001b[39mpersistent_id \u001b[38;5;241m=\u001b[39m persistent_id\n\u001b[0;32m--> 589\u001b[0m \u001b[43mpickler\u001b[49m\u001b[38;5;241;43m.\u001b[39;49m\u001b[43mdump\u001b[49m\u001b[43m(\u001b[49m\u001b[43mobj\u001b[49m\u001b[43m)\u001b[49m\n\u001b[1;32m    590\u001b[0m data_value \u001b[38;5;241m=\u001b[39m data_buf\u001b[38;5;241m.\u001b[39mgetvalue()\n\u001b[1;32m    591\u001b[0m zip_file\u001b[38;5;241m.\u001b[39mwrite_record(\u001b[38;5;124m'\u001b[39m\u001b[38;5;124mdata.pkl\u001b[39m\u001b[38;5;124m'\u001b[39m, data_value, \u001b[38;5;28mlen\u001b[39m(data_value))\n",
      "\u001b[0;31mPicklingError\u001b[0m: Can't pickle <function MathClass.addition at 0x7f00c5a13700>: it's not the same object as __main__.MathClass.addition"
     ]
    }
   ],
   "source": [
    "import torch\n",
    "torch.save(math, \"mymaththing.pth\")"
   ]
  },
  {
   "cell_type": "markdown",
   "id": "0a54aeed-0188-44c8-9154-d18810ca32f1",
   "metadata": {},
   "source": [
    "As you can see, we get this weird pickling error. For the life of me I couldn't figure out the why, until I finally did. \n",
    "\n",
    "To save our object, I needed to remove my wrappers I had added, as they weren't needed in the end result. Here's how I did so:"
   ]
  },
  {
   "cell_type": "code",
   "execution_count": null,
   "id": "22f10530-6666-4bfc-a12b-30abf603d666",
   "metadata": {},
   "outputs": [],
   "source": [
    "import pickle\n",
    "from functools import update_wrapper\n",
    "\n",
    "class AdditionWithDiv:\n",
    "    \"\"\"\n",
    "    Decorator which will perform addition then divide the result by two\n",
    "    \"\"\"\n",
    "    def __init__(self, addition_func):\n",
    "        self.addition_func = addition_func\n",
    "        update_wrapper(self, addition_func)\n",
    "    \n",
    "    def __call__(self, *args, **kwargs):\n",
    "        result = self.addition_func(*args, **kwargs)\n",
    "        return result / 2\n",
    "\n",
    "    def __getstate__(self):\n",
    "        raise pickle.PicklingError(\n",
    "            \"This wrapper cannot be pickled! Remove it before doing so\"\n",
    "        )\n",
    "        \n",
    "addition_with_div = AdditionWithDiv"
   ]
  },
  {
   "cell_type": "markdown",
   "id": "9c419ebe-53f7-47d8-bfde-14fb721a54d4",
   "metadata": {},
   "source": [
    "#| explain multiline \"def __init__\" 0 ) 1\n",
    "\n",
    "The init function will first store the function and then call `functools.update_wrapper` and wrap `self` around `addition_func`. It's the same thing that `functools.wraps` did for us, but we can make use of a custom `class` instead."
   ]
  },
  {
   "cell_type": "markdown",
   "id": "e0ff13ed-0fc3-4e24-aa00-9c6354cdb7b6",
   "metadata": {},
   "source": [
    "#| explain multiline \"def __call__\" 0 2\n",
    "\n",
    "Here we perform what the `inner` did earlier, get our result and divide by two"
   ]
  },
  {
   "cell_type": "markdown",
   "id": "802585cb-706f-44d6-8922-fe8acf0f3e4b",
   "metadata": {},
   "source": [
    "#| explain multiline \"def __getstate__\" 0 ) -1\n",
    "\n",
    "This is a very important custom error that will occur when someone tries to pickle this object, letting them know that this shouldn't happen and cannot be done. This will help not return that weird error as before that tells us nothing."
   ]
  },
  {
   "cell_type": "code",
   "execution_count": null,
   "id": "450418b6-0a5f-4fa2-8f64-a38952ea217a",
   "metadata": {},
   "outputs": [],
   "source": [
    "math = MathClass(a=2)\n",
    "math.addition = addition_with_div(math.addition)"
   ]
  },
  {
   "cell_type": "code",
   "execution_count": null,
   "id": "499b2450-53b3-4691-a5de-1b7f6c1c5bf5",
   "metadata": {},
   "outputs": [
    {
     "ename": "PicklingError",
     "evalue": "This wrapper cannot be pickled! Remove it before doing so",
     "output_type": "error",
     "traceback": [
      "\u001b[0;31m---------------------------------------------------------------------------\u001b[0m",
      "\u001b[0;31mPicklingError\u001b[0m                             Traceback (most recent call last)",
      "Input \u001b[0;32mIn [17]\u001b[0m, in \u001b[0;36m<module>\u001b[0;34m\u001b[0m\n\u001b[0;32m----> 1\u001b[0m \u001b[43mtorch\u001b[49m\u001b[38;5;241;43m.\u001b[39;49m\u001b[43msave\u001b[49m\u001b[43m(\u001b[49m\u001b[43mmath\u001b[49m\u001b[43m,\u001b[49m\u001b[43m \u001b[49m\u001b[38;5;124;43m\"\u001b[39;49m\u001b[38;5;124;43mmymaththing.pth\u001b[39;49m\u001b[38;5;124;43m\"\u001b[39;49m\u001b[43m)\u001b[49m\n",
      "File \u001b[0;32m~/.local/lib/python3.8/site-packages/torch/serialization.py:379\u001b[0m, in \u001b[0;36msave\u001b[0;34m(obj, f, pickle_module, pickle_protocol, _use_new_zipfile_serialization)\u001b[0m\n\u001b[1;32m    377\u001b[0m \u001b[38;5;28;01mif\u001b[39;00m _use_new_zipfile_serialization:\n\u001b[1;32m    378\u001b[0m     \u001b[38;5;28;01mwith\u001b[39;00m _open_zipfile_writer(opened_file) \u001b[38;5;28;01mas\u001b[39;00m opened_zipfile:\n\u001b[0;32m--> 379\u001b[0m         \u001b[43m_save\u001b[49m\u001b[43m(\u001b[49m\u001b[43mobj\u001b[49m\u001b[43m,\u001b[49m\u001b[43m \u001b[49m\u001b[43mopened_zipfile\u001b[49m\u001b[43m,\u001b[49m\u001b[43m \u001b[49m\u001b[43mpickle_module\u001b[49m\u001b[43m,\u001b[49m\u001b[43m \u001b[49m\u001b[43mpickle_protocol\u001b[49m\u001b[43m)\u001b[49m\n\u001b[1;32m    380\u001b[0m         \u001b[38;5;28;01mreturn\u001b[39;00m\n\u001b[1;32m    381\u001b[0m _legacy_save(obj, opened_file, pickle_module, pickle_protocol)\n",
      "File \u001b[0;32m~/.local/lib/python3.8/site-packages/torch/serialization.py:589\u001b[0m, in \u001b[0;36m_save\u001b[0;34m(obj, zip_file, pickle_module, pickle_protocol)\u001b[0m\n\u001b[1;32m    587\u001b[0m pickler \u001b[38;5;241m=\u001b[39m pickle_module\u001b[38;5;241m.\u001b[39mPickler(data_buf, protocol\u001b[38;5;241m=\u001b[39mpickle_protocol)\n\u001b[1;32m    588\u001b[0m pickler\u001b[38;5;241m.\u001b[39mpersistent_id \u001b[38;5;241m=\u001b[39m persistent_id\n\u001b[0;32m--> 589\u001b[0m \u001b[43mpickler\u001b[49m\u001b[38;5;241;43m.\u001b[39;49m\u001b[43mdump\u001b[49m\u001b[43m(\u001b[49m\u001b[43mobj\u001b[49m\u001b[43m)\u001b[49m\n\u001b[1;32m    590\u001b[0m data_value \u001b[38;5;241m=\u001b[39m data_buf\u001b[38;5;241m.\u001b[39mgetvalue()\n\u001b[1;32m    591\u001b[0m zip_file\u001b[38;5;241m.\u001b[39mwrite_record(\u001b[38;5;124m'\u001b[39m\u001b[38;5;124mdata.pkl\u001b[39m\u001b[38;5;124m'\u001b[39m, data_value, \u001b[38;5;28mlen\u001b[39m(data_value))\n",
      "Input \u001b[0;32mIn [15]\u001b[0m, in \u001b[0;36mAdditionWithDiv.__getstate__\u001b[0;34m(self)\u001b[0m\n\u001b[1;32m     16\u001b[0m \u001b[38;5;28;01mdef\u001b[39;00m \u001b[38;5;21m__getstate__\u001b[39m(\u001b[38;5;28mself\u001b[39m):\n\u001b[0;32m---> 17\u001b[0m     \u001b[38;5;28;01mraise\u001b[39;00m pickle\u001b[38;5;241m.\u001b[39mPicklingError(\u001b[38;5;124m\"\u001b[39m\u001b[38;5;124mThis wrapper cannot be pickled! Remove it before doing so\u001b[39m\u001b[38;5;124m\"\u001b[39m)\n",
      "\u001b[0;31mPicklingError\u001b[0m: This wrapper cannot be pickled! Remove it before doing so"
     ]
    }
   ],
   "source": [
    "torch.save(math, \"mymaththing.pth\")"
   ]
  },
  {
   "cell_type": "markdown",
   "id": "9601aba1-e141-4c52-a628-c95b3f23c20d",
   "metadata": {},
   "source": [
    "Better, now to remove the wrapper:"
   ]
  },
  {
   "cell_type": "code",
   "execution_count": null,
   "id": "4d2b0666-ada2-4b51-8537-a41844299e39",
   "metadata": {},
   "outputs": [],
   "source": [
    "math = MathClass(a=2)\n",
    "math._original_addition = math.addition\n",
    "math.addition = addition_with_div(math.addition)\n",
    "\n",
    "addition = getattr(math, \"addition\")\n",
    "original_addition = math.__dict__.pop(\"_original_addition\", None)\n",
    "if original_addition is not None:\n",
    "    while hasattr(addition, \"__wrapped__\"):\n",
    "        if addition != original_addition:\n",
    "            addition = addition.__wrapped__\n",
    "        else:\n",
    "            break\n",
    "    math.addition = addition"
   ]
  },
  {
   "cell_type": "markdown",
   "id": "05b8eb9c-6e94-4b1b-abee-fe2fa88fe56b",
   "metadata": {},
   "source": [
    "#| explain multiline \"math\" 0 ) 1\n",
    "\n",
    "We instantiate a new `MathClass` object and set a reference point to the *original* addition function we had before wrapping the function in our `addition_with_div`"
   ]
  },
  {
   "cell_type": "markdown",
   "id": "8861ad99-f282-4f14-bd2e-bc4e71ae06ba",
   "metadata": {},
   "source": [
    "#| explain multiline \"addition = \" 0 ) 3\n",
    "\n",
    "We need to extract both the wrapped addition function and potentially if we have an `_original_addition` function if it exists."
   ]
  },
  {
   "cell_type": "markdown",
   "id": "17a56945-8bf1-4dc1-906f-c7133893df9c",
   "metadata": {},
   "source": [
    "#| explain multiline \"while\" 0 \"break\" 0\n",
    "\n",
    "We traverse the layers of `__wrapped__` functions (as this can go to multitudes such as `d(c(b(a())))`) and if the wrapped addition isn't the same as the original, get that new reference and keep going"
   ]
  },
  {
   "cell_type": "markdown",
   "id": "6255b611-f680-4d4b-a0f6-5552a4537c4f",
   "metadata": {},
   "source": [
    "#| explain multiline \"math.addition\" 3 \"addition\" -1\n",
    "\n",
    "Finally set the function to the found addition"
   ]
  },
  {
   "cell_type": "markdown",
   "id": "1767bb3d-3e27-43bd-bb7a-6cbd1fbba6b2",
   "metadata": {},
   "source": [
    "We now have the old function again and can pickle it!"
   ]
  },
  {
   "cell_type": "code",
   "execution_count": null,
   "id": "b460b6bb-4a8d-43d5-98a0-9747aa8a4faa",
   "metadata": {},
   "outputs": [],
   "source": [
    "torch.save(math, \"mymaththing.pth\")"
   ]
  },
  {
   "cell_type": "code",
   "execution_count": null,
   "id": "daf51039-ac65-47db-85b8-274e5b5bbcdc",
   "metadata": {},
   "outputs": [],
   "source": []
  }
 ],
 "metadata": {
  "kernelspec": {
   "display_name": "Python 3.9.13 ('fast')",
   "language": "python",
   "name": "python3"
  },
  "language_info": {
   "name": "python",
   "version": "3.9.13"
  },
  "vscode": {
   "interpreter": {
    "hash": "91cf809ebeac7834cab322c0e9393d8c235d5aedcc8b94bfe1d55e7236ca8197"
   }
  }
 },
 "nbformat": 4,
 "nbformat_minor": 5
}
